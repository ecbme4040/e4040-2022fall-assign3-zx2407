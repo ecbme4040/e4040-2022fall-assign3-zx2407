{
 "cells": [
  {
   "cell_type": "markdown",
   "metadata": {},
   "source": [
    "## Columbia University\n",
    "### ECBM E4040 Neural Networks and Deep Learning. Fall 2022."
   ]
  },
  {
   "cell_type": "markdown",
   "metadata": {
    "id": "JJCMCx6ISZZw"
   },
   "source": [
    "## **Task 2: RNN application -- Tweet Sentiment Analysis** (50%)"
   ]
  },
  {
   "cell_type": "markdown",
   "metadata": {
    "id": "u8wjQhNtSffW"
   },
   "source": [
    "In this task, you are going to classify the sentiment in tweets into positive and negative using an LSTM model. The code to load the data and see its characteristics has been provided to you. \n",
    "\n",
    "In the first task, you will encode the data using one hot encoding and train an LSTM network to classify the sentiment. In the second task, you will replace the one hot encoding with an embedding layer and train another LSTM model. You will then extract the trained embeddings and visualize the word embeddings in 2 dimensions by using TSNE for dimensionality reduction. "
   ]
  },
  {
   "cell_type": "code",
   "execution_count": 5,
   "metadata": {
    "id": "UZ_G4XdfP7GK"
   },
   "outputs": [
    {
     "name": "stdout",
     "output_type": "stream",
     "text": [
      "The autoreload extension is already loaded. To reload it, use:\n",
      "  %reload_ext autoreload\n"
     ]
    }
   ],
   "source": [
    "# Import modules\n",
    "from __future__ import print_function\n",
    "import tensorflow as tf\n",
    "import numpy as np\n",
    "import json\n",
    "import time\n",
    "import matplotlib.pyplot as plt\n",
    "import pickle\n",
    "\n",
    "%matplotlib inline\n",
    "\n",
    "%load_ext autoreload\n",
    "%autoreload 2"
   ]
  },
  {
   "cell_type": "markdown",
   "metadata": {
    "id": "6MjTYqMoN8fh"
   },
   "source": [
    "## Load Data\n"
   ]
  },
  {
   "cell_type": "code",
   "execution_count": 6,
   "metadata": {
    "colab": {
     "base_uri": "https://localhost:8080/"
    },
    "id": "F55EwI6RQl1A",
    "outputId": "1e087591-3dad-4471-97df-d9af9214dddb"
   },
   "outputs": [
    {
     "name": "stdout",
     "output_type": "stream",
     "text": [
      "size of original train set: 60000\n",
      "size of original test set: 20000\n",
      "****************************************************************************************************\n",
      "size of train set: 60000, #positive: 30055, #negative: 29945\n",
      "size of test set: 1000, #positive: 510, #negative: 490\n",
      "['it', 'will', 'help', 'relieve', 'your', 'stress', 'padtoken', 'padtoken', 'padtoken', 'padtoken', 'padtoken', 'padtoken', 'padtoken', 'padtoken', 'padtoken', 'padtoken', 'padtoken', 'padtoken', 'padtoken', 'padtoken']\n",
      "sentiment: positive\n"
     ]
    }
   ],
   "source": [
    "with open(\"./tweets_data/vocabulary.pkl\", \"rb\") as f:\n",
    "    vocabulary = pickle.load(f)\n",
    "\n",
    "# load our data and separate it into tweets and labels\n",
    "train_data = json.load(open('tweets_data/trainTweets_preprocessed.json', 'r'))\n",
    "train_data = list(map(lambda row:(np.array(row[0],dtype=np.int32),str(row[1])),train_data))\n",
    "train_tweets = np.array([t[0] for t in train_data])\n",
    "train_labels = np.array([int(t[1]) for t in train_data])\n",
    "\n",
    "test_data = json.load(open('tweets_data/testTweets_preprocessed.json', 'r'))\n",
    "test_data = list(map(lambda row:(np.array(row[0],dtype=np.int32),str(row[1])),test_data))\n",
    "test_tweets = np.array([t[0] for t in test_data])\n",
    "test_labels = np.array([int(t[1]) for t in test_data])\n",
    "\n",
    "print(\"size of original train set: {}\".format(len(train_tweets)))\n",
    "print(\"size of original test set: {}\".format(len(test_tweets)))\n",
    "\n",
    "# only select first 1000 test sample for test\n",
    "test_tweets = test_tweets[:1000]\n",
    "test_labels = test_labels[:1000]\n",
    "\n",
    "print(\"*\"*100)\n",
    "print(\"size of train set: {}, #positive: {}, #negative: {}\".format(len(train_tweets), np.sum(train_labels), len(train_tweets)-np.sum(train_labels)))\n",
    "print(\"size of test set: {}, #positive: {}, #negative: {}\".format(len(test_tweets), np.sum(test_labels), len(test_tweets)-np.sum(test_labels)))\n",
    "\n",
    "# show text of the idx-th train tweet\n",
    "# The 'padtoken' is used to ensure each tweet has the same length\n",
    "idx = 100\n",
    "train_text = [vocabulary[x] for x in train_tweets[idx]]\n",
    "print(train_text)\n",
    "sentiment_label = [\"negative\", \"positive\"]\n",
    "print(\"sentiment: {}\".format(sentiment_label[train_labels[idx]]))"
   ]
  },
  {
   "cell_type": "markdown",
   "metadata": {
    "id": "dmjy9sPDOCnY"
   },
   "source": [
    "## Part 1 LSTM Encoder (15%)\n",
    "\n",
    "<font color=\"red\"><strong>TODO:</strong></font> Create a single-layer LSTM network to classify tweets.\n",
    "- Use one hot encoding to represent each word in the tweet.\n",
    "- Set LSTM units to 128.\n",
    "- Use Adam optimizer and set batch size to 32.\n",
    "\n",
    "With these settings, what accuracy could you get? You can try to change some stuff in the network to see if you could get a better accuracy. \n",
    "\n",
    "<font color=\"red\"><strong>Hint:</strong></font> tf.one_hot and Keras functional API may be useful.\n",
    "<br>https://www.tensorflow.org/api_docs/python/tf/keras/layers/LSTM"
   ]
  },
  {
   "cell_type": "code",
   "execution_count": 9,
   "metadata": {
    "id": "-Mx6WgMBVI3T"
   },
   "outputs": [
    {
     "name": "stdout",
     "output_type": "stream",
     "text": [
      "Epoch 1/5\n",
      "1875/1875 [==============================] - 59s 31ms/step - loss: 0.5501 - accuracy: 0.7168\n",
      "Epoch 2/5\n",
      "1875/1875 [==============================] - 57s 31ms/step - loss: 0.5103 - accuracy: 0.7471\n",
      "Epoch 3/5\n",
      "1875/1875 [==============================] - 58s 31ms/step - loss: 0.4938 - accuracy: 0.7581\n",
      "Epoch 4/5\n",
      "1875/1875 [==============================] - 57s 30ms/step - loss: 0.4793 - accuracy: 0.7667\n",
      "Epoch 5/5\n",
      "1875/1875 [==============================] - 56s 30ms/step - loss: 0.4628 - accuracy: 0.7766\n",
      "Model: \"sequential_1\"\n",
      "_________________________________________________________________\n",
      " Layer (type)                Output Shape              Param #   \n",
      "=================================================================\n",
      " lstm_1 (LSTM)               (None, 128)               578048    \n",
      "                                                                 \n",
      " dense_1 (Dense)             (None, 1)                 129       \n",
      "                                                                 \n",
      "=================================================================\n",
      "Total params: 578,177\n",
      "Trainable params: 578,177\n",
      "Non-trainable params: 0\n",
      "_________________________________________________________________\n"
     ]
    }
   ],
   "source": [
    "###################################################\n",
    "# TODO: Create a single-layer LSTM network.       #\n",
    "#                                                 #\n",
    "###################################################\n",
    "from tensorflow.keras import optimizers\n",
    "from tensorflow.keras.layers import Dense, Input, LSTM\n",
    "from tensorflow.keras.models import Sequential\n",
    "import numpy as np\n",
    "import random\n",
    "\n",
    "train_onehot=tf.one_hot(train_tweets,1000)\n",
    "test_onehot=tf.one_hot(test_tweets,1000)\n",
    "\n",
    "input_dim = 60000\n",
    "output_dim = 1\n",
    "embedding_dim = 32\n",
    "\n",
    "\n",
    "\n",
    "model = tf.keras.models.Sequential() \n",
    "model.add(tf.keras.layers.LSTM(LSTM_units, return_sequences=False))\n",
    "model.add(tf.keras.layers.Dense(output_dim,activation='sigmoid'))\n",
    "\n",
    "model.build(input_shape=(60000,20,1000))\n",
    "model.compile(loss='binary_crossentropy', optimizer='adam',metrics=['accuracy']) # \n",
    "history_LSTM = model.fit(train_onehot, train_labels,  batch_size=32, epochs=5)\n",
    "model.summary()\n",
    "\n",
    "###################################################\n",
    "# END TODO                                        #\n",
    "###################################################"
   ]
  },
  {
   "cell_type": "markdown",
   "metadata": {
    "id": "IBiLRGc7RL-g"
   },
   "source": [
    "## Part 2: Embedding Lookup layer (20%)\n",
    "\n",
    "### Define an embedding layer\n",
    "\n",
    "It's not hard to imagine that in the previous practices, the input we fed in are very sparse because each word was represented as a one-hot vector. This makes it difficult for the network to understand what story the input data is telling. A useful technique is *Word Embedding*.\n",
    "\n",
    "*Word Embedding*: instead of using a one-hot vector to represent each word, we can add a word embedding matrix in which each word is represented as a low-dimensional vector. Note that this representation is not sparse any more, because we're working in a continuous vector space now. Words that share similar/related semantic meaning should be 'close to each other' in this vector space (we could define a distance measure to estimate the closeness).\n",
    "\n",
    "<font color=\"red\"><strong>TODO:</strong></font> Define a similar model as above with some improvements.\n",
    "- Use an Embedding layer instead of one hot embedding.\n",
    "- Write a custom training loop to train the model instead of using model.fit().\n",
    "- Write a custom loop gives you complete control over how the model is trained.\n",
    "- Report loss and accuracy for training and validation after each epoch.\n",
    "- Display the loss value after every 500 steps. \n",
    "\n",
    "Do you see any difference in accuracy? What about training time? What inference can you draw?\n",
    "\n",
    "**Hints**: Refer to the link below.\n",
    "<br>https://www.tensorflow.org/guide/keras/writing_a_training_loop_from_scratch\n"
   ]
  },
  {
   "cell_type": "code",
   "execution_count": 30,
   "metadata": {
    "id": "x2mkQlVMVUny"
   },
   "outputs": [
    {
     "name": "stdout",
     "output_type": "stream",
     "text": [
      " epoch 0\n",
      "Training loss at this step 0: 0.6955\n",
      "Training loss at this step 500: 0.3749\n",
      "Training loss at this step 1000: 0.3974\n",
      "Training loss at this step 1500: 0.5192\n",
      "Training accuracy: 0.7305\n",
      "Validation accuracy: 0.7600\n",
      "Time: 238.79s\n",
      " epoch 1\n",
      "Training loss at this step 0: 0.4449\n",
      "Training loss at this step 500: 0.3185\n",
      "Training loss at this step 1000: 0.3316\n",
      "Training loss at this step 1500: 0.4585\n",
      "Training accuracy: 0.7839\n",
      "Validation accuracy: 0.7670\n",
      "Time: 246.78s\n",
      " epoch 2\n",
      "Training loss at this step 0: 0.4217\n",
      "Training loss at this step 500: 0.3338\n",
      "Training loss at this step 1000: 0.3201\n",
      "Training loss at this step 1500: 0.4643\n",
      "Training accuracy: 0.8013\n",
      "Validation accuracy: 0.7780\n",
      "Time: 287.42s\n",
      " epoch 3\n",
      "Training loss at this step 0: 0.3571\n",
      "Training loss at this step 500: 0.3027\n",
      "Training loss at this step 1000: 0.2982\n",
      "Training loss at this step 1500: 0.4480\n",
      "Training accuracy: 0.8163\n",
      "Validation accuracy: 0.7730\n",
      "Time: 264.02s\n",
      " epoch 4\n",
      "Training loss at this step 0: 0.3313\n",
      "Training loss at this step 500: 0.2427\n",
      "Training loss at this step 1000: 0.3076\n",
      "Training loss at this step 1500: 0.4593\n",
      "Training accuracy: 0.8303\n",
      "Validation accuracy: 0.7600\n",
      "Time: 262.23s\n",
      " epoch 5\n",
      "Training loss at this step 0: 0.2342\n",
      "Training loss at this step 500: 0.2784\n",
      "Training loss at this step 1000: 0.2878\n",
      "Training loss at this step 1500: 0.5367\n",
      "Training accuracy: 0.8419\n",
      "Validation accuracy: 0.7510\n",
      "Time: 262.71s\n"
     ]
    }
   ],
   "source": [
    "###################################################\n",
    "# TODO: Create a single-layer LSTM network        #\n",
    "#       using Embedding layer                     #\n",
    "###################################################\n",
    "from tensorflow.keras import optimizers\n",
    "from tensorflow.keras.layers import Dense, Input, LSTM, Embedding\n",
    "from tensorflow.keras.models import Sequential\n",
    "import numpy as np\n",
    "import random\n",
    "batch_size = 32\n",
    "train_data = tf.data.Dataset.from_tensor_slices((train_tweets, train_labels))\n",
    "train_data = train_data.batch(batch_size)\n",
    "val_data = tf.data.Dataset.from_tensor_slices((test_tweets, test_labels))\n",
    "val_data = val_data.batch(batch_size)\n",
    "\n",
    "\n",
    "length = len(vocabulary)\n",
    "embedding_dim = 128\n",
    "lstm_out = 100\n",
    "\n",
    "inputs = tf.keras.Input((20,))\n",
    "embedding = tf.keras.layers.Embedding(length, embedding_dim, input_length=train_tweets.shape[1])(inputs)\n",
    "x = tf.keras.layers.LSTM(lstm_out, dropout=0.4, recurrent_dropout=0.2)(embedding)\n",
    "x = tf.keras.layers.Dense(64,activation='relu')(x)\n",
    "dens = tf.keras.layers.Dense(1, activation='sigmoid')(x)\n",
    "\n",
    "model = tf.keras.Model(inputs, dens)\n",
    "\n",
    "optimizer = tf.keras.optimizers.Adam()\n",
    "loss_function= tf.keras.losses.BinaryCrossentropy()\n",
    "train_acc_metric = tf.keras.metrics.BinaryAccuracy()\n",
    "val_acc_metric = tf.keras.metrics.BinaryAccuracy()\n",
    "\n",
    "def trainning_step(x, y):\n",
    "    with tf.GradientTape() as tape:\n",
    "        logits = model(x, training=True)\n",
    "        loss_value = loss_function(y, logits)\n",
    "    grads = tape.gradient(loss_value, model.trainable_weights)\n",
    "    optimizer.apply_gradients(zip(grads, model.trainable_weights))\n",
    "    train_acc_metric.update_state(y, logits)\n",
    "    return loss_value\n",
    "\n",
    "def test_step(x, y):\n",
    "    val_logits = model(x, training=False)\n",
    "    val_acc_metric.update_state(y, val_logits)\n",
    "epochs = 6\n",
    "\n",
    "for epoch in range(epochs):\n",
    "    print(\" epoch %d\" % (epoch,))\n",
    "    start_time = time.time()\n",
    "    \n",
    "    for step, (x_batch_train, y_batch_train) in enumerate(train_data):\n",
    "        loss_value = trainning_step(x_batch_train, y_batch_train)\n",
    "\n",
    "        if step % 500 == 0:\n",
    "                print(\n",
    "                \"Training loss at this step %d: %.4f\"\n",
    "                % (step, float(loss_value))\n",
    "            )\n",
    "            \n",
    "    train_acc = train_acc_metric.result()\n",
    "    print(\"Training accuracy: %.4f\" % (float(train_acc),))\n",
    "\n",
    "    train_acc_metric.reset_states()\n",
    "\n",
    "    for x_batch_val, y_batch_val in val_data:\n",
    "        test_step(x_batch_val, y_batch_val)\n",
    "\n",
    "    val_acc = val_acc_metric.result()\n",
    "    val_acc_metric.reset_states()\n",
    "    print(\"Validation accuracy: %.4f\" % (float(val_acc),))\n",
    "    print(\"Time: %.2fs\" % (time.time() - start_time))\n",
    "\n",
    "###################################################\n",
    "# END TODO                                        #\n",
    "###################################################"
   ]
  },
  {
   "cell_type": "markdown",
   "metadata": {
    "id": "o9WYOKJtUwe5"
   },
   "source": [
    "## Part 3: Visualize word vectors via tSNE (15%)\n",
    "\n",
    "<font color=\"red\"><strong>TODO:</strong></font>\n",
    "- First, you need to retrieve embedding matrix from the network.\n",
    "- Then use tSNE to reduce each low-dimensional word vector into a 2D vector.\n",
    "- And then, you should visualize some interesting word pairs in 2D panel. (You may find scatter function in matplotlib.pyplot useful.)\n",
    "\n",
    "<font color=\"red\"><strong>Hint:</strong></font> You can use TSNE tool provided in scikit-learn. And if you encounter dead kernel problem caused by \"Intel MKL FATAL ERROR: Cannot load libmkl_avx.so or libmkl_def.so\", please reinstall scikit-learn without MKL, ie., conda install nomkl numpy scipy scikit-learn numexpr.\n",
    "\n",
    "Here we provide some word pairs for you, like female-male or country-capital. And you can observe that these word-pair will look parallel with each other in a 2D tSNE panel. And you can find some other words and explore their relationship.\n"
   ]
  },
  {
   "cell_type": "code",
   "execution_count": 22,
   "metadata": {
    "id": "aVZwhreIVlk0"
   },
   "outputs": [
    {
     "name": "stderr",
     "output_type": "stream",
     "text": [
      "C:\\Anaconda\\envs\\keras\\lib\\site-packages\\sklearn\\manifold\\_t_sne.py:780: FutureWarning: The default initialization in TSNE will change from 'random' to 'pca' in 1.2.\n",
      "  warnings.warn(\n",
      "C:\\Anaconda\\envs\\keras\\lib\\site-packages\\sklearn\\manifold\\_t_sne.py:790: FutureWarning: The default learning rate in TSNE will change from 200.0 to 'auto' in 1.2.\n",
      "  warnings.warn(\n"
     ]
    },
    {
     "data": {
      "image/png": "[encoded data removed]",
      "text/plain": [
       "<Figure size 640x480 with 1 Axes>"
      ]
     },
     "metadata": {},
     "output_type": "display_data"
    },
    {
     "data": {
      "image/png": "[encoded data removed]",
      "text/plain": [
       "<Figure size 640x480 with 1 Axes>"
      ]
     },
     "metadata": {},
     "output_type": "display_data"
    }
   ],
   "source": [
    "# word pairs provided\n",
    "female_male = [\"men\", \"women\", \"king\", \"queen\"]\n",
    "country_capital = [\"spain\", \"madrid\", \"italy\", \"rome\", \"japan\", \"tokyo\"]\n",
    "#you may try some other words as well\n",
    "\n",
    "###################################################\n",
    "# TODO: Visualize word vectors using TSNE.        #\n",
    "#                                                 #\n",
    "###################################################\n",
    "\n",
    "from sklearn.manifold import TSNE\n",
    "\n",
    "embeddings = model.layers[1].get_weights()[0]\n",
    "embedded_tsne = TSNE(n_components=2).fit_transform(embeddings)\n",
    "plt.plot(embedded_tsne[np.where(vocabulary == \"italy\")[0][0]], embedded_tsne[np.where(vocabulary == \"rome\")[0][0]], label='italy - rome')\n",
    "plt.plot(embedded_tsne[np.where(vocabulary == \"japan\")[0][0]], embedded_tsne[np.where(vocabulary == \"tokyo\")[0][0]], label='japan - tokyo')\n",
    "plt.title('country_capital')\n",
    "plt.ylabel('x_2')\n",
    "plt.xlabel('x_1')\n",
    "plt.legend(loc=\"upper left\")\n",
    "plt.show()\n",
    "\n",
    "\n",
    "plt.plot(embedded_tsne[np.where(vocabulary == \"sofa\")[0][0]], embedded_tsne[np.where(vocabulary == \"fun\")[0][0]], label='sofa - fun')\n",
    "plt.plot(embedded_tsne[np.where(vocabulary == \"bed\")[0][0]], embedded_tsne[np.where(vocabulary == \"sleep\")[0][0]], label='bed - sleep')\n",
    "plt.title('furniture-function')\n",
    "plt.ylabel('x_2')\n",
    "plt.xlabel('x_1')\n",
    "plt.legend(loc=\"upper right\")\n",
    "plt.show()\n",
    "\n",
    "\n",
    "###################################################\n",
    "# END TODO                                        #\n",
    "###################################################"
   ]
  },
  {
   "cell_type": "markdown",
   "metadata": {},
   "source": [
    "<font color=\"red\"><strong>Note:</strong></font> Install **sklearn** if you haven't already. \n",
    "\n",
    "```\n",
    "> pip install sklearn\n",
    "```"
   ]
  },
  {
   "cell_type": "code",
   "execution_count": 28,
   "metadata": {
    "id": "htUwuPmxWT9Q"
   },
   "outputs": [
    {
     "ename": "IndexError",
     "evalue": "list index out of range",
     "output_type": "error",
     "traceback": [
      "\u001b[1;31m---------------------------------------------------------------------------\u001b[0m",
      "\u001b[1;31mIndexError\u001b[0m                                Traceback (most recent call last)",
      "Input \u001b[1;32mIn [28]\u001b[0m, in \u001b[0;36m<cell line: 4>\u001b[1;34m()\u001b[0m\n\u001b[0;32m      1\u001b[0m \u001b[38;5;66;03m##Solution\u001b[39;00m\n\u001b[0;32m      3\u001b[0m \u001b[38;5;28;01mfrom\u001b[39;00m \u001b[38;5;21;01msklearn\u001b[39;00m\u001b[38;5;21;01m.\u001b[39;00m\u001b[38;5;21;01mmanifold\u001b[39;00m \u001b[38;5;28;01mimport\u001b[39;00m TSNE\n\u001b[1;32m----> 4\u001b[0m embeddings \u001b[38;5;241m=\u001b[39m \u001b[43mmodel\u001b[49m\u001b[38;5;241;43m.\u001b[39;49m\u001b[43mlayers\u001b[49m\u001b[43m[\u001b[49m\u001b[38;5;241;43m0\u001b[39;49m\u001b[43m]\u001b[49m\u001b[38;5;241;43m.\u001b[39;49m\u001b[43mget_weights\u001b[49m\u001b[43m(\u001b[49m\u001b[43m)\u001b[49m\u001b[43m[\u001b[49m\u001b[38;5;241;43m0\u001b[39;49m\u001b[43m]\u001b[49m\n\u001b[0;32m      5\u001b[0m emb_tsne \u001b[38;5;241m=\u001b[39m TSNE(n_components\u001b[38;5;241m=\u001b[39m\u001b[38;5;241m2\u001b[39m)\u001b[38;5;241m.\u001b[39mfit_transform(embeddings)\n",
      "\u001b[1;31mIndexError\u001b[0m: list index out of range"
     ]
    }
   ],
   "source": [
    "##Solution\n",
    "\n",
    "from sklearn.manifold import TSNE\n",
    "embeddings = model.layers[0].get_weights()[0]\n",
    "emb_tsne = TSNE(n_components=2).fit_transform(embeddings)"
   ]
  },
  {
   "cell_type": "code",
   "execution_count": 27,
   "metadata": {
    "colab": {
     "base_uri": "https://localhost:8080/",
     "height": 267
    },
    "id": "rzrHjQbnWL6S",
    "outputId": "e2a57dd1-88f1-4a9e-926d-4a031e6f17ac"
   },
   "outputs": [
    {
     "ename": "NameError",
     "evalue": "name 'emb_tsne' is not defined",
     "output_type": "error",
     "traceback": [
      "\u001b[1;31m---------------------------------------------------------------------------\u001b[0m",
      "\u001b[1;31mNameError\u001b[0m                                 Traceback (most recent call last)",
      "Input \u001b[1;32mIn [27]\u001b[0m, in \u001b[0;36m<cell line: 9>\u001b[1;34m()\u001b[0m\n\u001b[0;32m      6\u001b[0m \u001b[38;5;28;01mfor\u001b[39;00m word \u001b[38;5;129;01min\u001b[39;00m sample_words:\n\u001b[0;32m      7\u001b[0m   indices\u001b[38;5;241m.\u001b[39mappend(vocab_list\u001b[38;5;241m.\u001b[39mindex(word))\n\u001b[1;32m----> 9\u001b[0m points \u001b[38;5;241m=\u001b[39m \u001b[43memb_tsne\u001b[49m[indices]\n\u001b[0;32m     10\u001b[0m plt\u001b[38;5;241m.\u001b[39mscatter(points[:, \u001b[38;5;241m0\u001b[39m], points[:, \u001b[38;5;241m1\u001b[39m], \u001b[38;5;241m20\u001b[39m)\n\u001b[0;32m     12\u001b[0m \u001b[38;5;28;01mfor\u001b[39;00m text, pts \u001b[38;5;129;01min\u001b[39;00m \u001b[38;5;28mzip\u001b[39m(sample_words, points):\n\u001b[0;32m     13\u001b[0m     \u001b[38;5;66;03m# plt.annotate(text, (X_tsne[idx,0],X_tsne[idx,1]), fontsize=20)\u001b[39;00m\n",
      "\u001b[1;31mNameError\u001b[0m: name 'emb_tsne' is not defined"
     ]
    }
   ],
   "source": [
    "##Solution\n",
    "\n",
    "vocab_list = list(vocabulary)\n",
    "sample_words = female_male #[\"master\", \"teacher\", \"student\", \"graduate\", \"learning\", \"teach\", \"college\", \"campus\"]\n",
    "indices =[]\n",
    "for word in sample_words:\n",
    "  indices.append(vocab_list.index(word))\n",
    "\n",
    "points = emb_tsne[indices]\n",
    "plt.scatter(points[:, 0], points[:, 1], 20)\n",
    "\n",
    "for text, pts in zip(sample_words, points):\n",
    "    # plt.annotate(text, (X_tsne[idx,0],X_tsne[idx,1]), fontsize=20)\n",
    "    plt.annotate(text, (int(pts[0]), int(pts[1])))\n",
    "    "
   ]
  },
  {
   "cell_type": "code",
   "execution_count": null,
   "metadata": {},
   "outputs": [],
   "source": []
  },
  {
   "cell_type": "code",
   "execution_count": null,
   "metadata": {},
   "outputs": [],
   "source": []
  },
  {
   "cell_type": "code",
   "execution_count": null,
   "metadata": {},
   "outputs": [],
   "source": []
  }
 ],
 "metadata": {
  "accelerator": "GPU",
  "colab": {
   "name": "Assignment_3_task_2_final.ipynb",
   "provenance": []
  },
  "kernelspec": {
   "display_name": "Python 3 (ipykernel)",
   "language": "python",
   "name": "python3"
  },
  "language_info": {
   "codemirror_mode": {
    "name": "ipython",
    "version": 3
   },
   "file_extension": ".py",
   "mimetype": "text/x-python",
   "name": "python",
   "nbconvert_exporter": "python",
   "pygments_lexer": "ipython3",
   "version": "3.10.6"
  },
  "vscode": {
   "interpreter": {
    "hash": "36142657f443a869bd2c1b509e6f1df9b014ad48aa206cdd00d27f8f22cb37ba"
   }
  }
 },
 "nbformat": 4,
 "nbformat_minor": 4
}
