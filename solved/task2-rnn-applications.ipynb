{
 "cells": [
  {
   "cell_type": "markdown",
   "metadata": {},
   "source": [
    "## Columbia University\n",
    "### ECBM E4040 Neural Networks and Deep Learning. Fall 2022."
   ]
  },
  {
   "cell_type": "markdown",
   "metadata": {
    "id": "JJCMCx6ISZZw"
   },
   "source": [
    "## **Task 2: RNN application -- Tweet Sentiment Analysis** (50%)"
   ]
  },
  {
   "cell_type": "markdown",
   "metadata": {
    "id": "u8wjQhNtSffW"
   },
   "source": [
    "In this task, you are going to classify the sentiment in tweets into positive and negative using an LSTM model. The code to load the data and see its characteristics has been provided to you. \n",
    "\n",
    "In the first task, you will encode the data using one hot encoding and train an LSTM network to classify the sentiment. In the second task, you will replace the one hot encoding with an embedding layer and train another LSTM model. You will then extract the trained embeddings and visualize the word embeddings in 2 dimensions by using TSNE for dimensionality reduction. "
   ]
  },
  {
   "cell_type": "code",
   "execution_count": 6,
   "metadata": {
    "id": "UZ_G4XdfP7GK"
   },
   "outputs": [
    {
     "name": "stdout",
     "output_type": "stream",
     "text": [
      "The autoreload extension is already loaded. To reload it, use:\n",
      "  %reload_ext autoreload\n"
     ]
    }
   ],
   "source": [
    "# Import modules\n",
    "from __future__ import print_function\n",
    "import tensorflow as tf\n",
    "import numpy as np\n",
    "import json\n",
    "import time\n",
    "import matplotlib.pyplot as plt\n",
    "import pickle\n",
    "\n",
    "%matplotlib inline\n",
    "\n",
    "%load_ext autoreload\n",
    "%autoreload 2"
   ]
  },
  {
   "cell_type": "markdown",
   "metadata": {
    "id": "6MjTYqMoN8fh"
   },
   "source": [
    "## Load Data\n"
   ]
  },
  {
   "cell_type": "code",
   "execution_count": 7,
   "metadata": {
    "colab": {
     "base_uri": "https://localhost:8080/"
    },
    "id": "F55EwI6RQl1A",
    "outputId": "1e087591-3dad-4471-97df-d9af9214dddb"
   },
   "outputs": [
    {
     "name": "stdout",
     "output_type": "stream",
     "text": [
      "size of original train set: 60000\n",
      "size of original test set: 20000\n",
      "****************************************************************************************************\n",
      "size of train set: 60000, #positive: 30055, #negative: 29945\n",
      "size of test set: 1000, #positive: 510, #negative: 490\n",
      "['it', 'will', 'help', 'relieve', 'your', 'stress', 'padtoken', 'padtoken', 'padtoken', 'padtoken', 'padtoken', 'padtoken', 'padtoken', 'padtoken', 'padtoken', 'padtoken', 'padtoken', 'padtoken', 'padtoken', 'padtoken']\n",
      "sentiment: positive\n"
     ]
    }
   ],
   "source": [
    "with open(\"./tweets_data/vocabulary.pkl\", \"rb\") as f:\n",
    "    vocabulary = pickle.load(f)\n",
    "\n",
    "# load our data and separate it into tweets and labels\n",
    "train_data = json.load(open('tweets_data/trainTweets_preprocessed.json', 'r'))\n",
    "train_data = list(map(lambda row:(np.array(row[0],dtype=np.int32),str(row[1])),train_data))\n",
    "train_tweets = np.array([t[0] for t in train_data])\n",
    "train_labels = np.array([int(t[1]) for t in train_data])\n",
    "\n",
    "test_data = json.load(open('tweets_data/testTweets_preprocessed.json', 'r'))\n",
    "test_data = list(map(lambda row:(np.array(row[0],dtype=np.int32),str(row[1])),test_data))\n",
    "test_tweets = np.array([t[0] for t in test_data])\n",
    "test_labels = np.array([int(t[1]) for t in test_data])\n",
    "\n",
    "print(\"size of original train set: {}\".format(len(train_tweets)))\n",
    "print(\"size of original test set: {}\".format(len(test_tweets)))\n",
    "\n",
    "# only select first 1000 test sample for test\n",
    "test_tweets = test_tweets[:1000]\n",
    "test_labels = test_labels[:1000]\n",
    "\n",
    "print(\"*\"*100)\n",
    "print(\"size of train set: {}, #positive: {}, #negative: {}\".format(len(train_tweets), np.sum(train_labels), len(train_tweets)-np.sum(train_labels)))\n",
    "print(\"size of test set: {}, #positive: {}, #negative: {}\".format(len(test_tweets), np.sum(test_labels), len(test_tweets)-np.sum(test_labels)))\n",
    "\n",
    "# show text of the idx-th train tweet\n",
    "# The 'padtoken' is used to ensure each tweet has the same length\n",
    "idx = 100\n",
    "train_text = [vocabulary[x] for x in train_tweets[idx]]\n",
    "print(train_text)\n",
    "sentiment_label = [\"negative\", \"positive\"]\n",
    "print(\"sentiment: {}\".format(sentiment_label[train_labels[idx]]))"
   ]
  },
  {
   "cell_type": "markdown",
   "metadata": {
    "id": "dmjy9sPDOCnY"
   },
   "source": [
    "## Part 1 LSTM Encoder (15%)\n",
    "\n",
    "<font color=\"red\"><strong>TODO:</strong></font> Create a single-layer LSTM network to classify tweets.\n",
    "- Use one hot encoding to represent each word in the tweet.\n",
    "- Set LSTM units to 128.\n",
    "- Use Adam optimizer and set batch size to 32.\n",
    "\n",
    "With these settings, what accuracy could you get? You can try to change some stuff in the network to see if you could get a better accuracy. \n",
    "\n",
    "<font color=\"red\"><strong>Hint:</strong></font> tf.one_hot and Keras functional API may be useful.\n",
    "<br>https://www.tensorflow.org/api_docs/python/tf/keras/layers/LSTM"
   ]
  },
  {
   "cell_type": "code",
   "execution_count": 9,
   "metadata": {
    "id": "-Mx6WgMBVI3T"
   },
   "outputs": [
    {
     "name": "stdout",
     "output_type": "stream",
     "text": [
      "Epoch 1/25\n",
      "1875/1875 [==============================] - 8s 3ms/step - loss: 0.6929 - accuracy: 0.5214\n",
      "Epoch 2/25\n",
      "1875/1875 [==============================] - 6s 3ms/step - loss: 0.6895 - accuracy: 0.5347\n",
      "Epoch 3/25\n",
      "1875/1875 [==============================] - 6s 3ms/step - loss: 0.6876 - accuracy: 0.5436\n",
      "Epoch 4/25\n",
      "1875/1875 [==============================] - 6s 3ms/step - loss: 0.6859 - accuracy: 0.5489\n",
      "Epoch 5/25\n",
      "1875/1875 [==============================] - 6s 3ms/step - loss: 0.6848 - accuracy: 0.5539\n",
      "Epoch 6/25\n",
      "1875/1875 [==============================] - 6s 3ms/step - loss: 0.6849 - accuracy: 0.5539\n",
      "Epoch 7/25\n",
      "1875/1875 [==============================] - 6s 3ms/step - loss: 0.6847 - accuracy: 0.5516\n",
      "Epoch 8/25\n",
      "1875/1875 [==============================] - 6s 3ms/step - loss: 0.6835 - accuracy: 0.5565\n",
      "Epoch 9/25\n",
      "1875/1875 [==============================] - 6s 3ms/step - loss: 0.6823 - accuracy: 0.5590\n",
      "Epoch 10/25\n",
      "1875/1875 [==============================] - 6s 3ms/step - loss: 0.6825 - accuracy: 0.5589\n",
      "Epoch 11/25\n",
      "1875/1875 [==============================] - 6s 3ms/step - loss: 0.6815 - accuracy: 0.5608\n",
      "Epoch 12/25\n",
      "1875/1875 [==============================] - 6s 3ms/step - loss: 0.6812 - accuracy: 0.5625\n",
      "Epoch 13/25\n",
      "1875/1875 [==============================] - 6s 3ms/step - loss: 0.6795 - accuracy: 0.5652\n",
      "Epoch 14/25\n",
      "1875/1875 [==============================] - 6s 3ms/step - loss: 0.6800 - accuracy: 0.5626\n",
      "Epoch 15/25\n",
      "1875/1875 [==============================] - 6s 3ms/step - loss: 0.6786 - accuracy: 0.5655\n",
      "Epoch 16/25\n",
      "1875/1875 [==============================] - 6s 3ms/step - loss: 0.6769 - accuracy: 0.5690\n",
      "Epoch 17/25\n",
      "1875/1875 [==============================] - 6s 3ms/step - loss: 0.6748 - accuracy: 0.5741\n",
      "Epoch 18/25\n",
      "1875/1875 [==============================] - 6s 3ms/step - loss: 0.6751 - accuracy: 0.5732\n",
      "Epoch 19/25\n",
      "1875/1875 [==============================] - 6s 3ms/step - loss: 0.6750 - accuracy: 0.5719\n",
      "Epoch 20/25\n",
      "1875/1875 [==============================] - 6s 3ms/step - loss: 0.6729 - accuracy: 0.5768\n",
      "Epoch 21/25\n",
      "1875/1875 [==============================] - 6s 3ms/step - loss: 0.6729 - accuracy: 0.5752\n",
      "Epoch 22/25\n",
      "1875/1875 [==============================] - 6s 3ms/step - loss: 0.6731 - accuracy: 0.5739\n",
      "Epoch 23/25\n",
      "1875/1875 [==============================] - 6s 3ms/step - loss: 0.6709 - accuracy: 0.5790\n",
      "Epoch 24/25\n",
      "1875/1875 [==============================] - 6s 3ms/step - loss: 0.6686 - accuracy: 0.5825\n",
      "Epoch 25/25\n",
      "1875/1875 [==============================] - 6s 3ms/step - loss: 0.6693 - accuracy: 0.5800\n",
      "Model: \"sequential_4\"\n",
      "_________________________________________________________________\n",
      "Layer (type)                 Output Shape              Param #   \n",
      "=================================================================\n",
      "lstm_2 (LSTM)                (None, 20, 128)           66560     \n",
      "_________________________________________________________________\n",
      "dense_2 (Dense)              (None, 20, 1)             129       \n",
      "=================================================================\n",
      "Total params: 66,689\n",
      "Trainable params: 66,689\n",
      "Non-trainable params: 0\n",
      "_________________________________________________________________\n"
     ]
    }
   ],
   "source": [
    "###################################################\n",
    "# TODO: Create a single-layer LSTM network.       #\n",
    "#                                                 #\n",
    "###################################################\n",
    "from tensorflow.keras import optimizers\n",
    "from tensorflow.keras.layers import Dense, Input, LSTM\n",
    "from tensorflow.keras.models import Sequential\n",
    "import numpy as np\n",
    "import random\n",
    "\n",
    "vocab_size = 1000\n",
    "one_hot_dir = [tf.one_hot(words,vocab_size) for words in train_tweets]\n",
    "\n",
    "train_tweets = train_tweets.reshape(-1, 20, 1)\n",
    "\n",
    "\n",
    "model = Sequential()\n",
    "\n",
    "model = tf.keras.Sequential()\n",
    "model.add(LSTM(128, input_shape=(20,1), return_sequences=True))\n",
    "model.add(Dense(1,activation='sigmoid'))\n",
    "\n",
    "model.compile(loss='binary_crossentropy', optimizer='adam',metrics=['accuracy']) # \n",
    "history_LSTM = model.fit(train_tweets, train_labels,  batch_size=32, epochs=25)\n",
    "model.summary()\n",
    "\n",
    "###################################################\n",
    "# END TODO                                        #\n",
    "###################################################"
   ]
  },
  {
   "cell_type": "markdown",
   "metadata": {
    "id": "IBiLRGc7RL-g"
   },
   "source": [
    "## Part 2: Embedding Lookup layer (20%)\n",
    "\n",
    "### Define an embedding layer\n",
    "\n",
    "It's not hard to imagine that in the previous practices, the input we fed in are very sparse because each word was represented as a one-hot vector. This makes it difficult for the network to understand what story the input data is telling. A useful technique is *Word Embedding*.\n",
    "\n",
    "*Word Embedding*: instead of using a one-hot vector to represent each word, we can add a word embedding matrix in which each word is represented as a low-dimensional vector. Note that this representation is not sparse any more, because we're working in a continuous vector space now. Words that share similar/related semantic meaning should be 'close to each other' in this vector space (we could define a distance measure to estimate the closeness).\n",
    "\n",
    "<font color=\"red\"><strong>TODO:</strong></font> Define a similar model as above with some improvements.\n",
    "- Use an Embedding layer instead of one hot embedding.\n",
    "- Write a custom training loop to train the model instead of using model.fit().\n",
    "- Write a custom loop gives you complete control over how the model is trained.\n",
    "- Report loss and accuracy for training and validation after each epoch.\n",
    "- Display the loss value after every 500 steps. \n",
    "\n",
    "Do you see any difference in accuracy? What about training time? What inference can you draw?\n",
    "\n",
    "**Hints**: Refer to the link below.\n",
    "<br>https://www.tensorflow.org/guide/keras/writing_a_training_loop_from_scratch\n"
   ]
  },
  {
   "cell_type": "code",
   "execution_count": 3,
   "metadata": {
    "id": "x2mkQlVMVUny"
   },
   "outputs": [
    {
     "name": "stdout",
     "output_type": "stream",
     "text": [
      "WARNING:tensorflow:Layer lstm will not use cuDNN kernel since it doesn't meet the cuDNN kernel criteria. It will use generic GPU kernel as fallback when running on GPU\n",
      "Model: \"sequential\"\n",
      "_________________________________________________________________\n",
      "Layer (type)                 Output Shape              Param #   \n",
      "=================================================================\n",
      "embedding (Embedding)        (None, 20, 128)           1280000   \n",
      "_________________________________________________________________\n",
      "lstm (LSTM)                  (None, 128)               131584    \n",
      "_________________________________________________________________\n",
      "dense (Dense)                (None, 1)                 129       \n",
      "=================================================================\n",
      "Total params: 1,411,713\n",
      "Trainable params: 1,411,713\n",
      "Non-trainable params: 0\n",
      "_________________________________________________________________\n",
      "Epoch 1/5\n",
      "1875/1875 [==============================] - 76s 39ms/step - loss: 0.5711 - accuracy: 0.6946 - val_loss: 0.4926 - val_accuracy: 0.7700\n",
      "Epoch 2/5\n",
      "1875/1875 [==============================] - 73s 39ms/step - loss: 0.4483 - accuracy: 0.7952 - val_loss: 0.4982 - val_accuracy: 0.7740\n",
      "Epoch 3/5\n",
      "1875/1875 [==============================] - 74s 40ms/step - loss: 0.4136 - accuracy: 0.8120 - val_loss: 0.4998 - val_accuracy: 0.7670\n",
      "Epoch 4/5\n",
      "1875/1875 [==============================] - 75s 40ms/step - loss: 0.3769 - accuracy: 0.8293 - val_loss: 0.5196 - val_accuracy: 0.7740\n",
      "Epoch 5/5\n",
      "1875/1875 [==============================] - 74s 39ms/step - loss: 0.3446 - accuracy: 0.8445 - val_loss: 0.5709 - val_accuracy: 0.7600\n"
     ]
    }
   ],
   "source": [
    "###################################################\n",
    "# TODO: Create a single-layer LSTM network        #\n",
    "#       using Embedding layer                     #\n",
    "###################################################\n",
    "from tensorflow.keras import optimizers\n",
    "from tensorflow.keras.layers import Dense, Input, LSTM, Embedding\n",
    "from tensorflow.keras.models import Sequential\n",
    "import numpy as np\n",
    "import random\n",
    "\n",
    "\n",
    "number_of_most_frequent_words=10000\n",
    "max_len=20\n",
    "\n",
    "model = Sequential()\n",
    "model.add(Embedding(input_dim=number_of_most_frequent_words, output_dim=128, input_length=max_len))\n",
    "model.add(LSTM(units=128, dropout=0.2, recurrent_dropout=0.2))\n",
    "model.add(Dense(1, activation='sigmoid'))\n",
    "model.summary()\n",
    "model.compile(optimizer='adam', loss='binary_crossentropy', metrics=['accuracy'])\n",
    "result= model.fit(train_tweets, train_labels, batch_size=32, epochs=5, validation_data=(test_tweets, test_labels))\n",
    "\n",
    "###################################################\n",
    "# END TODO                                        #\n",
    "###################################################"
   ]
  },
  {
   "cell_type": "markdown",
   "metadata": {
    "id": "o9WYOKJtUwe5"
   },
   "source": [
    "## Part 3: Visualize word vectors via tSNE (15%)\n",
    "\n",
    "<font color=\"red\"><strong>TODO:</strong></font>\n",
    "- First, you need to retrieve embedding matrix from the network.\n",
    "- Then use tSNE to reduce each low-dimensional word vector into a 2D vector.\n",
    "- And then, you should visualize some interesting word pairs in 2D panel. (You may find scatter function in matplotlib.pyplot useful.)\n",
    "\n",
    "<font color=\"red\"><strong>Hint:</strong></font> You can use TSNE tool provided in scikit-learn. And if you encounter dead kernel problem caused by \"Intel MKL FATAL ERROR: Cannot load libmkl_avx.so or libmkl_def.so\", please reinstall scikit-learn without MKL, ie., conda install nomkl numpy scipy scikit-learn numexpr.\n",
    "\n",
    "Here we provide some word pairs for you, like female-male or country-capital. And you can observe that these word-pair will look parallel with each other in a 2D tSNE panel. And you can find some other words and explore their relationship.\n"
   ]
  },
  {
   "cell_type": "code",
   "execution_count": null,
   "metadata": {
    "id": "aVZwhreIVlk0"
   },
   "outputs": [],
   "source": [
    "# word pairs provided\n",
    "female_male = [\"men\", \"women\", \"king\", \"queen\"]\n",
    "country_capital = [\"spain\", \"madrid\", \"italy\", \"rome\", \"japan\", \"tokyo\"]\n",
    "#you may try some other words as well\n",
    "\n",
    "###################################################\n",
    "# TODO: Visualize word vectors using TSNE.        #\n",
    "#                                                 #\n",
    "###################################################\n",
    "pip install sklearn\n",
    "\n",
    "###################################################\n",
    "# END TODO                                        #\n",
    "###################################################"
   ]
  },
  {
   "cell_type": "markdown",
   "metadata": {},
   "source": [
    "<font color=\"red\"><strong>Note:</strong></font> Install **sklearn** if you haven't already. \n",
    "\n",
    "```\n",
    "> pip install sklearn\n",
    "```"
   ]
  },
  {
   "cell_type": "code",
   "execution_count": null,
   "metadata": {
    "id": "htUwuPmxWT9Q"
   },
   "outputs": [],
   "source": [
    "##Solution\n",
    "\n",
    "from sklearn.manifold import TSNE\n",
    "embeddings = model.layers[0].get_weights()[0]\n",
    "emb_tsne = TSNE(n_components=2).fit_transform(embeddings)"
   ]
  },
  {
   "cell_type": "code",
   "execution_count": null,
   "metadata": {
    "colab": {
     "base_uri": "https://localhost:8080/",
     "height": 267
    },
    "id": "rzrHjQbnWL6S",
    "outputId": "e2a57dd1-88f1-4a9e-926d-4a031e6f17ac"
   },
   "outputs": [],
   "source": [
    "##Solution\n",
    "\n",
    "vocab_list = list(vocabulary)\n",
    "sample_words = female_male #[\"master\", \"teacher\", \"student\", \"graduate\", \"learning\", \"teach\", \"college\", \"campus\"]\n",
    "indices =[]\n",
    "for word in sample_words:\n",
    "  indices.append(vocab_list.index(word))\n",
    "\n",
    "points = emb_tsne[indices]\n",
    "plt.scatter(points[:, 0], points[:, 1], 20)\n",
    "\n",
    "for text, pts in zip(sample_words, points):\n",
    "    # plt.annotate(text, (X_tsne[idx,0],X_tsne[idx,1]), fontsize=20)\n",
    "    plt.annotate(text, (int(pts[0]), int(pts[1])))\n",
    "    "
   ]
  },
  {
   "cell_type": "code",
   "execution_count": null,
   "metadata": {},
   "outputs": [],
   "source": []
  }
 ],
 "metadata": {
  "accelerator": "GPU",
  "colab": {
   "name": "Assignment_3_task_2_final.ipynb",
   "provenance": []
  },
  "kernelspec": {
   "display_name": "Python 3",
   "language": "python",
   "name": "python3"
  },
  "language_info": {
   "codemirror_mode": {
    "name": "ipython",
    "version": 3
   },
   "file_extension": ".py",
   "mimetype": "text/x-python",
   "name": "python",
   "nbconvert_exporter": "python",
   "pygments_lexer": "ipython3",
   "version": "3.6.9"
  },
  "vscode": {
   "interpreter": {
    "hash": "36142657f443a869bd2c1b509e6f1df9b014ad48aa206cdd00d27f8f22cb37ba"
   }
  }
 },
 "nbformat": 4,
 "nbformat_minor": 4
}
